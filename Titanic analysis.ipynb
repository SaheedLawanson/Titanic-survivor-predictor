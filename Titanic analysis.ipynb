{
 "cells": [
  {
   "cell_type": "markdown",
   "id": "dd3e9407",
   "metadata": {},
   "source": [
    "Importing the necessary libraries and data"
   ]
  },
  {
   "cell_type": "code",
   "execution_count": 419,
   "id": "9e52d1f1",
   "metadata": {},
   "outputs": [],
   "source": [
    "import pandas as pd, seaborn as sns"
   ]
  },
  {
   "cell_type": "code",
   "execution_count": 420,
   "id": "380be14f",
   "metadata": {
    "scrolled": true
   },
   "outputs": [
    {
     "data": {
      "text/html": [
       "<div>\n",
       "<style scoped>\n",
       "    .dataframe tbody tr th:only-of-type {\n",
       "        vertical-align: middle;\n",
       "    }\n",
       "\n",
       "    .dataframe tbody tr th {\n",
       "        vertical-align: top;\n",
       "    }\n",
       "\n",
       "    .dataframe thead th {\n",
       "        text-align: right;\n",
       "    }\n",
       "</style>\n",
       "<table border=\"1\" class=\"dataframe\">\n",
       "  <thead>\n",
       "    <tr style=\"text-align: right;\">\n",
       "      <th></th>\n",
       "      <th>PassengerId</th>\n",
       "      <th>Survived</th>\n",
       "      <th>Pclass</th>\n",
       "      <th>Name</th>\n",
       "      <th>Sex</th>\n",
       "      <th>Age</th>\n",
       "      <th>SibSp</th>\n",
       "      <th>Parch</th>\n",
       "      <th>Ticket</th>\n",
       "      <th>Fare</th>\n",
       "      <th>Cabin</th>\n",
       "      <th>Embarked</th>\n",
       "    </tr>\n",
       "  </thead>\n",
       "  <tbody>\n",
       "    <tr>\n",
       "      <th>0</th>\n",
       "      <td>1</td>\n",
       "      <td>0</td>\n",
       "      <td>3</td>\n",
       "      <td>Braund, Mr. Owen Harris</td>\n",
       "      <td>male</td>\n",
       "      <td>22.0</td>\n",
       "      <td>1</td>\n",
       "      <td>0</td>\n",
       "      <td>A/5 21171</td>\n",
       "      <td>7.2500</td>\n",
       "      <td>NaN</td>\n",
       "      <td>S</td>\n",
       "    </tr>\n",
       "    <tr>\n",
       "      <th>1</th>\n",
       "      <td>2</td>\n",
       "      <td>1</td>\n",
       "      <td>1</td>\n",
       "      <td>Cumings, Mrs. John Bradley (Florence Briggs Th...</td>\n",
       "      <td>female</td>\n",
       "      <td>38.0</td>\n",
       "      <td>1</td>\n",
       "      <td>0</td>\n",
       "      <td>PC 17599</td>\n",
       "      <td>71.2833</td>\n",
       "      <td>C85</td>\n",
       "      <td>C</td>\n",
       "    </tr>\n",
       "    <tr>\n",
       "      <th>2</th>\n",
       "      <td>3</td>\n",
       "      <td>1</td>\n",
       "      <td>3</td>\n",
       "      <td>Heikkinen, Miss. Laina</td>\n",
       "      <td>female</td>\n",
       "      <td>26.0</td>\n",
       "      <td>0</td>\n",
       "      <td>0</td>\n",
       "      <td>STON/O2. 3101282</td>\n",
       "      <td>7.9250</td>\n",
       "      <td>NaN</td>\n",
       "      <td>S</td>\n",
       "    </tr>\n",
       "    <tr>\n",
       "      <th>3</th>\n",
       "      <td>4</td>\n",
       "      <td>1</td>\n",
       "      <td>1</td>\n",
       "      <td>Futrelle, Mrs. Jacques Heath (Lily May Peel)</td>\n",
       "      <td>female</td>\n",
       "      <td>35.0</td>\n",
       "      <td>1</td>\n",
       "      <td>0</td>\n",
       "      <td>113803</td>\n",
       "      <td>53.1000</td>\n",
       "      <td>C123</td>\n",
       "      <td>S</td>\n",
       "    </tr>\n",
       "    <tr>\n",
       "      <th>4</th>\n",
       "      <td>5</td>\n",
       "      <td>0</td>\n",
       "      <td>3</td>\n",
       "      <td>Allen, Mr. William Henry</td>\n",
       "      <td>male</td>\n",
       "      <td>35.0</td>\n",
       "      <td>0</td>\n",
       "      <td>0</td>\n",
       "      <td>373450</td>\n",
       "      <td>8.0500</td>\n",
       "      <td>NaN</td>\n",
       "      <td>S</td>\n",
       "    </tr>\n",
       "  </tbody>\n",
       "</table>\n",
       "</div>"
      ],
      "text/plain": [
       "   PassengerId  Survived  Pclass  \\\n",
       "0            1         0       3   \n",
       "1            2         1       1   \n",
       "2            3         1       3   \n",
       "3            4         1       1   \n",
       "4            5         0       3   \n",
       "\n",
       "                                                Name     Sex   Age  SibSp  \\\n",
       "0                            Braund, Mr. Owen Harris    male  22.0      1   \n",
       "1  Cumings, Mrs. John Bradley (Florence Briggs Th...  female  38.0      1   \n",
       "2                             Heikkinen, Miss. Laina  female  26.0      0   \n",
       "3       Futrelle, Mrs. Jacques Heath (Lily May Peel)  female  35.0      1   \n",
       "4                           Allen, Mr. William Henry    male  35.0      0   \n",
       "\n",
       "   Parch            Ticket     Fare Cabin Embarked  \n",
       "0      0         A/5 21171   7.2500   NaN        S  \n",
       "1      0          PC 17599  71.2833   C85        C  \n",
       "2      0  STON/O2. 3101282   7.9250   NaN        S  \n",
       "3      0            113803  53.1000  C123        S  \n",
       "4      0            373450   8.0500   NaN        S  "
      ]
     },
     "execution_count": 420,
     "metadata": {},
     "output_type": "execute_result"
    }
   ],
   "source": [
    "titanic_train = pd.read_csv(r'.\\Titanic data set\\train.csv')\n",
    "titanic_test = pd.read_csv(r'.\\Titanic data set\\test.csv')\n",
    "titanic_train.head()"
   ]
  },
  {
   "cell_type": "markdown",
   "id": "3ed975f3",
   "metadata": {},
   "source": [
    "Data cleaning and Exploratory analysis"
   ]
  },
  {
   "cell_type": "code",
   "execution_count": 421,
   "id": "91b502e7",
   "metadata": {},
   "outputs": [
    {
     "data": {
      "text/plain": [
       "<AxesSubplot:>"
      ]
     },
     "execution_count": 421,
     "metadata": {},
     "output_type": "execute_result"
    },
    {
     "data": {
      "image/png": "[encoded data removed]",
      "text/plain": [
       "<Figure size 432x288 with 2 Axes>"
      ]
     },
     "metadata": {
      "needs_background": "light"
     },
     "output_type": "display_data"
    }
   ],
   "source": [
    "# Null values may mess up the machine learning model(s)\n",
    "# using heat map to easily visualize columns with null values\n",
    "\n",
    "sns.heatmap(titanic_train.isnull())"
   ]
  },
  {
   "cell_type": "code",
   "execution_count": 422,
   "id": "344c11e1",
   "metadata": {},
   "outputs": [],
   "source": [
    "# The age and Cabin column contains too many null values,\n",
    "# so i removed the Cabin column along with any rows with null values (179 rows)\n",
    "\n",
    "titanic_train.drop(labels =['Cabin'], axis = 'columns', inplace=True)\n",
    "titanic_train.dropna(inplace =True)"
   ]
  },
  {
   "cell_type": "code",
   "execution_count": 423,
   "id": "277194c9",
   "metadata": {},
   "outputs": [],
   "source": [
    "# Converting categorical columns to interpretable 1s and 0s \n",
    "\n",
    "sex = pd.get_dummies(titanic_train['Sex'], drop_first = True)\n",
    "sex.columns = ['Male']\n",
    "embarked = pd.get_dummies(titanic_train['Embarked'], drop_first = True)\n",
    "pclass = pd.get_dummies(titanic_train['Pclass'], drop_first = True, prefix = 'Pclass', prefix_sep = ' ')"
   ]
  },
  {
   "cell_type": "code",
   "execution_count": 424,
   "id": "cfe10ab6",
   "metadata": {
    "scrolled": false
   },
   "outputs": [],
   "source": [
    "# Adding and removing the relevant columns\n",
    "\n",
    "titanic_train = pd.concat([titanic_train, sex, embarked, pclass], axis = 'columns')\n",
    "titanic_train.drop(['PassengerId', 'Pclass',\n",
    "              'Name', 'Ticket', 'Embarked', 'Sex'], axis = 'columns', inplace = True)"
   ]
  },
  {
   "cell_type": "markdown",
   "id": "6669d0bb",
   "metadata": {},
   "source": [
    "Splitting the titanic_train data set into training and testing set"
   ]
  },
  {
   "cell_type": "code",
   "execution_count": 425,
   "id": "e8bdeffc",
   "metadata": {
    "scrolled": true
   },
   "outputs": [],
   "source": [
    "from sklearn.model_selection import train_test_split"
   ]
  },
  {
   "cell_type": "code",
   "execution_count": 426,
   "id": "5c16c9bd",
   "metadata": {},
   "outputs": [],
   "source": [
    "X= titanic_train.drop(['Survived'], axis = 'columns')\n",
    "y = titanic_train['Survived']\n",
    "\n",
    "X_train, X_test, y_train, y_test = train_test_split(X, y, test_size=0.3)"
   ]
  },
  {
   "cell_type": "markdown",
   "id": "51a7563c",
   "metadata": {},
   "source": [
    "Training the machine label with my training set"
   ]
  },
  {
   "cell_type": "code",
   "execution_count": 427,
   "id": "91172f79",
   "metadata": {},
   "outputs": [],
   "source": [
    "# Using logistic regression\n",
    "from sklearn.linear_model import LogisticRegression"
   ]
  },
  {
   "cell_type": "code",
   "execution_count": 428,
   "id": "f0c956e8",
   "metadata": {},
   "outputs": [
    {
     "name": "stderr",
     "output_type": "stream",
     "text": [
      "C:\\anaconda3\\lib\\site-packages\\sklearn\\linear_model\\_logistic.py:763: ConvergenceWarning: lbfgs failed to converge (status=1):\n",
      "STOP: TOTAL NO. of ITERATIONS REACHED LIMIT.\n",
      "\n",
      "Increase the number of iterations (max_iter) or scale the data as shown in:\n",
      "    https://scikit-learn.org/stable/modules/preprocessing.html\n",
      "Please also refer to the documentation for alternative solver options:\n",
      "    https://scikit-learn.org/stable/modules/linear_model.html#logistic-regression\n",
      "  n_iter_i = _check_optimize_result(\n"
     ]
    }
   ],
   "source": [
    "log = LogisticRegression()\n",
    "log.fit(X_train, y_train)\n",
    "y_pred = log.predict(X_test)"
   ]
  },
  {
   "cell_type": "code",
   "execution_count": 429,
   "id": "bb379620",
   "metadata": {},
   "outputs": [],
   "source": [
    "# Testing my model\n",
    "from sklearn.metrics import confusion_matrix, classification_report"
   ]
  },
  {
   "cell_type": "code",
   "execution_count": 430,
   "id": "bbb73115",
   "metadata": {},
   "outputs": [
    {
     "name": "stdout",
     "output_type": "stream",
     "text": [
      "[[114  10]\n",
      " [ 24  66]]\n"
     ]
    }
   ],
   "source": [
    "print(confusion_matrix(y_test, y_pred))"
   ]
  },
  {
   "cell_type": "code",
   "execution_count": 431,
   "id": "8c43503e",
   "metadata": {},
   "outputs": [
    {
     "name": "stdout",
     "output_type": "stream",
     "text": [
      "              precision    recall  f1-score   support\n",
      "\n",
      "           0       0.83      0.92      0.87       124\n",
      "           1       0.87      0.73      0.80        90\n",
      "\n",
      "    accuracy                           0.84       214\n",
      "   macro avg       0.85      0.83      0.83       214\n",
      "weighted avg       0.84      0.84      0.84       214\n",
      "\n"
     ]
    }
   ],
   "source": [
    "print(classification_report (y_test, y_pred))"
   ]
  },
  {
   "cell_type": "markdown",
   "id": "6701750b",
   "metadata": {},
   "source": [
    "Final prediction on the actual test data"
   ]
  },
  {
   "cell_type": "code",
   "execution_count": 432,
   "id": "e32ba552",
   "metadata": {},
   "outputs": [],
   "source": [
    "# Repeating the cleaning proceedure except removing the null values along rows\n",
    "\n",
    "titanic_test.drop(labels =['Cabin'], axis = 'columns', inplace=True)\n",
    "#X_test.dropna(inplace =True)\n",
    "\n",
    "sex = pd.get_dummies(titanic_test['Sex'], drop_first = True)\n",
    "sex.columns = ['Male']\n",
    "embarked = pd.get_dummies(titanic_test['Embarked'], drop_first = True)\n",
    "pclass = pd.get_dummies(titanic_test['Pclass'], drop_first = True, prefix = 'Pclass', prefix_sep = ' ')\n",
    "\n",
    "titanic_test = pd.concat([titanic_test, sex, embarked, pclass], axis = 'columns')\n",
    "titanic_test.drop(['PassengerId', 'Pclass',\n",
    "              'Name', 'Ticket', 'Embarked', 'Sex'], axis = 'columns', inplace = True)"
   ]
  },
  {
   "cell_type": "code",
   "execution_count": 433,
   "id": "089057c7",
   "metadata": {},
   "outputs": [
    {
     "data": {
      "text/html": [
       "<div>\n",
       "<style scoped>\n",
       "    .dataframe tbody tr th:only-of-type {\n",
       "        vertical-align: middle;\n",
       "    }\n",
       "\n",
       "    .dataframe tbody tr th {\n",
       "        vertical-align: top;\n",
       "    }\n",
       "\n",
       "    .dataframe thead th {\n",
       "        text-align: right;\n",
       "    }\n",
       "</style>\n",
       "<table border=\"1\" class=\"dataframe\">\n",
       "  <thead>\n",
       "    <tr style=\"text-align: right;\">\n",
       "      <th></th>\n",
       "      <th>Age</th>\n",
       "      <th>SibSp</th>\n",
       "      <th>Parch</th>\n",
       "      <th>Fare</th>\n",
       "      <th>Male</th>\n",
       "      <th>Q</th>\n",
       "      <th>S</th>\n",
       "      <th>Pclass 2</th>\n",
       "      <th>Pclass 3</th>\n",
       "    </tr>\n",
       "  </thead>\n",
       "  <tbody>\n",
       "    <tr>\n",
       "      <th>0</th>\n",
       "      <td>34.5</td>\n",
       "      <td>0.0</td>\n",
       "      <td>0.0</td>\n",
       "      <td>7.8292</td>\n",
       "      <td>1.0</td>\n",
       "      <td>1.0</td>\n",
       "      <td>0.0</td>\n",
       "      <td>0.0</td>\n",
       "      <td>1.0</td>\n",
       "    </tr>\n",
       "    <tr>\n",
       "      <th>1</th>\n",
       "      <td>47.0</td>\n",
       "      <td>1.0</td>\n",
       "      <td>0.0</td>\n",
       "      <td>7.0000</td>\n",
       "      <td>0.0</td>\n",
       "      <td>0.0</td>\n",
       "      <td>1.0</td>\n",
       "      <td>0.0</td>\n",
       "      <td>1.0</td>\n",
       "    </tr>\n",
       "    <tr>\n",
       "      <th>2</th>\n",
       "      <td>62.0</td>\n",
       "      <td>0.0</td>\n",
       "      <td>0.0</td>\n",
       "      <td>9.6875</td>\n",
       "      <td>1.0</td>\n",
       "      <td>1.0</td>\n",
       "      <td>0.0</td>\n",
       "      <td>1.0</td>\n",
       "      <td>0.0</td>\n",
       "    </tr>\n",
       "    <tr>\n",
       "      <th>3</th>\n",
       "      <td>27.0</td>\n",
       "      <td>0.0</td>\n",
       "      <td>0.0</td>\n",
       "      <td>8.6625</td>\n",
       "      <td>1.0</td>\n",
       "      <td>0.0</td>\n",
       "      <td>1.0</td>\n",
       "      <td>0.0</td>\n",
       "      <td>1.0</td>\n",
       "    </tr>\n",
       "    <tr>\n",
       "      <th>4</th>\n",
       "      <td>22.0</td>\n",
       "      <td>1.0</td>\n",
       "      <td>1.0</td>\n",
       "      <td>12.2875</td>\n",
       "      <td>0.0</td>\n",
       "      <td>0.0</td>\n",
       "      <td>1.0</td>\n",
       "      <td>0.0</td>\n",
       "      <td>1.0</td>\n",
       "    </tr>\n",
       "  </tbody>\n",
       "</table>\n",
       "</div>"
      ],
      "text/plain": [
       "    Age  SibSp  Parch     Fare  Male    Q    S  Pclass 2  Pclass 3\n",
       "0  34.5    0.0    0.0   7.8292   1.0  1.0  0.0       0.0       1.0\n",
       "1  47.0    1.0    0.0   7.0000   0.0  0.0  1.0       0.0       1.0\n",
       "2  62.0    0.0    0.0   9.6875   1.0  1.0  0.0       1.0       0.0\n",
       "3  27.0    0.0    0.0   8.6625   1.0  0.0  1.0       0.0       1.0\n",
       "4  22.0    1.0    1.0  12.2875   0.0  0.0  1.0       0.0       1.0"
      ]
     },
     "execution_count": 433,
     "metadata": {},
     "output_type": "execute_result"
    }
   ],
   "source": [
    "# Impute/Estimate null values\n",
    "\n",
    "from sklearn.impute import SimpleImputer\n",
    "\n",
    "imputer = SimpleImputer()\n",
    "titanic_test = pd.DataFrame(imputer.fit_transform(titanic_test), columns = [i for i in titanic_test.columns])\n",
    "titanic_test.head()"
   ]
  },
  {
   "cell_type": "code",
   "execution_count": 434,
   "id": "2a4a5128",
   "metadata": {
    "scrolled": true
   },
   "outputs": [],
   "source": [
    "y_pred = log.predict(titanic_test)\n",
    "y_pred = pd.Series(y_pred)\n",
    "\n",
    "survived = pd.DataFrame({'PassengerId':list(range(892, 1310)), 'Survived': y_pred})"
   ]
  },
  {
   "cell_type": "code",
   "execution_count": 436,
   "id": "2675a750",
   "metadata": {},
   "outputs": [],
   "source": [
    "# Send results to a csv file for submission\n",
    "\n",
    "survived.to_csv('survived.csv', index=False)"
   ]
  },
  {
   "cell_type": "code",
   "execution_count": null,
   "id": "ccb940fd",
   "metadata": {},
   "outputs": [],
   "source": []
  }
 ],
 "metadata": {
  "kernelspec": {
   "display_name": "Python 3",
   "language": "python",
   "name": "python3"
  },
  "language_info": {
   "codemirror_mode": {
    "name": "ipython",
    "version": 3
   },
   "file_extension": ".py",
   "mimetype": "text/x-python",
   "name": "python",
   "nbconvert_exporter": "python",
   "pygments_lexer": "ipython3",
   "version": "3.8.8"
  }
 },
 "nbformat": 4,
 "nbformat_minor": 5
}
